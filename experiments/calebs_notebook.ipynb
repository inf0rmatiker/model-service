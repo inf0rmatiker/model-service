{
 "cells": [
  {
   "cell_type": "code",
   "execution_count": null,
   "metadata": {
    "collapsed": true,
    "pycharm": {
     "name": "#%%\n"
    }
   },
   "outputs": [],
   "source": [
    "import pandas as pd\n",
    "import numpy as np\n",
    "import matplotlib.pyplot as plt\n",
    "import json\n",
    "import os\n",
    "from pprint import pprint"
   ]
  },
  {
   "cell_type": "code",
   "execution_count": null,
   "outputs": [],
   "source": [
    "nmon_metric_options = [\n",
    "    (\"timestamp\", \"Timestamp MS since Epoch\", [0, 80], \"timestamp\"), #0\n",
    "    (\"CPU_ALL:User%\", \"CPU Total: User %\", [0,100], \"cpu_all_user_percent\"), # 1\n",
    "    (\"CPU_ALL:Sys%\", \"CPU Total: System %\", [0,100], \"cpu_all_system_percent\"), # 2\n",
    "    (\"MEM:memtotal\", \"Memory MB: Total\", [0,65000], \"mem_MB_total\"), #3\n",
    "    (\"MEM:hightotal\", \"Memory MB: High Total\", [0,65000], \"mem_MB_high_total\"), #4\n",
    "    (\"MEM:lowtotal\", \"Memory MB: Low Total\", [0,65000], \"mem_MB_low_total\"), #5\n",
    "    (\"MEM:swapfree\", \"Memory MB: Swap Free\", [0,1000], \"mem_MB_swap_free\"), #6\n",
    "    (\"MEM:active\", \"Memory MB: Active\", [0,65000], \"mem_MB_active\"), #7\n",
    "    (\"MEM:inactive\", \"Memory MB: Inactive\", [0,65000], \"mem_MB_inactive\"), #8\n",
    "    (\"NET:eno1-write-KB/s\", \"Network Write KB/s\", [0,1000], \"net_io_write_KBps\"), #9\n",
    "    (\"NET:eno1-read-KB/s\", \"Network Read KB/s\", [0,1000], \"net_io_read_KBps\"), #10\n",
    "    (\"DISKBUSY:sda\", \"Disk Busy %: /dev/sda\", [0,100], \"disk_io_busy_percent\"), #11\n",
    "    (\"DISKREAD:sda\", \"Disk Read KB/s: /dev/sda\", [0,10000], \"disk_io_read_KBps\"), #12\n",
    "    (\"DISKWRITE:sda\", \"Disk Write KB/s: /dev/sda\", [0,10000], \"disk_io_write_KBps\"), #13\n",
    "    (\"VM:pgfault\", \"Paging and Virtual Memory: Page Faults\", [0,100], \"virt_mem_page_faults\") #14\n",
    "]\n",
    "\n",
    "free_mem_metrics = [\n",
    "    (\"total\", \"Memory Total\", [0,67000], \"mem_total_MB\"), # 0\n",
    "    (\"used\", \"Memory Used\", [0,67000], \"mem_used_MB\"), # 1\n",
    "    (\"free\", \"Memory Free\", [0,67000], \"mem_free_MB\"), #2\n",
    "    (\"shared\", \"Memory Shared\", [0,67000], \"mem_shared_MB\"), #3\n",
    "    (\"buff/cache\", \"Memory Buffer/Cache\", [0,67000], \"buff_cache_MB\"), # 4\n",
    "    (\"available\", \"Memory Available\", [0,67000], \"mem_available_MB\") # 5\n",
    "]\n",
    "\n",
    "possible_experiments = [\n",
    "    \"tensorflow/neural_network/no_budgets/job_mode_multiprocessing\",\n",
    "    \"tensorflow/neural_network/no_budgets/job_mode_multithreaded\",\n",
    "    \"tensorflow/neural_network/no_budgets/job_mode_synchronous\",\n",
    "    \"tensorflow/neural_network/static_budgets/sample_rate/10_percent\",\n",
    "    \"tensorflow/neural_network/static_budgets/sample_rate/20_percent\",\n",
    "    \"tensorflow/neural_network/static_budgets/sample_rate/50_percent\",\n",
    "    \"tensorflow/neural_network/static_budgets/total_limit/10M\",\n",
    "    \"tensorflow/neural_network/static_budgets/total_limit/20M\",\n",
    "    \"tensorflow/neural_network/variance_budgets/10M_total_500_initial\",\n",
    "    \"tensorflow/neural_network/variance_budgets/10M_total_1000_initial\"\n",
    "]\n",
    "\n",
    "experiments = [\n",
    "    \"tensorflow/neural_network/no_budgets/job_mode_multiprocessing\",\n",
    "    \"tensorflow/neural_network/static_budgets/sample_rate/20_percent\",\n",
    "    \"tensorflow/neural_network/variance_budgets/10M_total_500_initial\",\n",
    "    \"tensorflow/neural_network/static_budgets/total_limit/10M\"\n",
    "]\n",
    "\n",
    "CB_color_cycle = {\n",
    "    \"blue\":'#377eb8',\n",
    "    \"orange\":'#ff7f00',\n",
    "    \"green\":'#4daf4a',\n",
    "    \"pink\":'#f781bf',\n",
    "    \"brown\":'#a65628',\n",
    "    \"purple\":'#984ea3',\n",
    "    \"gray\":'#999999',\n",
    "    \"red\":'#e41a1c',\n",
    "    \"yellow\":'#dede00'\n",
    "}\n",
    "\n",
    "chosen_metric = nmon_metric_options[1]\n",
    "metric_header = chosen_metric[0]\n",
    "metric_name = chosen_metric[1]\n",
    "y_axis_limits = chosen_metric[2]\n",
    "metric_file_suffix = chosen_metric[3]\n",
    "\n",
    "experiment_dfs = []  # net read\n",
    "\n",
    "machine_names = []\n",
    "\n",
    "for experiment in experiments:\n",
    "    dataframes = []\n",
    "    for i in range(0, 25):\n",
    "        machine_id = f\"lattice-{150+i}\"\n",
    "        filename = f\"{i}-{machine_id}.nmon.csv\"\n",
    "        #filename = f\"{machine_id}_free.csv\"\n",
    "        filepath = f\"{experiment}/{filename}\"\n",
    "        dataframe = pd.read_csv(filepath, header=0)\n",
    "        dataframes.append(dataframe.pop(metric_header))\n",
    "    experiment_dfs.append((experiment, dataframes))\n",
    "\n"
   ],
   "metadata": {
    "collapsed": false,
    "pycharm": {
     "name": "#%%\n"
    }
   }
  }
 ],
 "metadata": {
  "kernelspec": {
   "display_name": "Python 3",
   "language": "python",
   "name": "python3"
  },
  "language_info": {
   "codemirror_mode": {
    "name": "ipython",
    "version": 2
   },
   "file_extension": ".py",
   "mimetype": "text/x-python",
   "name": "python",
   "nbconvert_exporter": "python",
   "pygments_lexer": "ipython2",
   "version": "2.7.6"
  }
 },
 "nbformat": 4,
 "nbformat_minor": 0
}