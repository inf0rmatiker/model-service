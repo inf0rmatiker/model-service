{
 "cells": [
  {
   "cell_type": "markdown",
   "source": [
    "# Imports"
   ],
   "metadata": {
    "collapsed": false,
    "pycharm": {
     "name": "#%% md\n"
    }
   }
  },
  {
   "cell_type": "code",
   "execution_count": 37,
   "outputs": [],
   "source": [
    "import pandas as pd\n",
    "import numpy as np\n",
    "import matplotlib.pyplot as plt\n",
    "import json\n",
    "import os\n",
    "from pprint import pprint"
   ],
   "metadata": {
    "collapsed": false,
    "pycharm": {
     "name": "#%%\n"
    }
   }
  },
  {
   "cell_type": "markdown",
   "source": [
    "# Metric DataFrames"
   ],
   "metadata": {
    "collapsed": false,
    "pycharm": {
     "name": "#%% md\n"
    }
   }
  },
  {
   "cell_type": "code",
   "execution_count": null,
   "outputs": [],
   "source": [
    "nmon_metric_options = [\n",
    "    (\"timestamp\", \"Timestamp MS since Epoch\", [0, 80], \"timestamp\"), #0\n",
    "    (\"CPU_ALL:User%\", \"CPU Total: User %\", [0,100], \"cpu_all_user_percent\"), # 1\n",
    "    (\"CPU_ALL:Sys%\", \"CPU Total: System %\", [0,100], \"cpu_all_system_percent\"), # 2\n",
    "    (\"MEM:memtotal\", \"Memory MB: Total\", [0,65000], \"mem_MB_total\"), #3\n",
    "    (\"MEM:hightotal\", \"Memory MB: High Total\", [0,65000], \"mem_MB_high_total\"), #4\n",
    "    (\"MEM:lowtotal\", \"Memory MB: Low Total\", [0,65000], \"mem_MB_low_total\"), #5\n",
    "    (\"MEM:swapfree\", \"Memory MB: Swap Free\", [0,1000], \"mem_MB_swap_free\"), #6\n",
    "    (\"MEM:active\", \"Memory MB: Active\", [0,65000], \"mem_MB_active\"), #7\n",
    "    (\"MEM:inactive\", \"Memory MB: Inactive\", [0,65000], \"mem_MB_inactive\"), #8\n",
    "    (\"NET:eno1-write-KB/s\", \"Network Write KB/s\", [0,1000], \"net_io_write_KBps\"), #9\n",
    "    (\"NET:eno1-read-KB/s\", \"Network Read KB/s\", [0,1000], \"net_io_read_KBps\"), #10\n",
    "    (\"DISKBUSY:sda\", \"Disk Busy %: /dev/sda\", [0,100], \"disk_io_busy_percent\"), #11\n",
    "    (\"DISKREAD:sda\", \"Disk Read KB/s: /dev/sda\", [0,10000], \"disk_io_read_KBps\"), #12\n",
    "    (\"DISKWRITE:sda\", \"Disk Write KB/s: /dev/sda\", [0,10000], \"disk_io_write_KBps\"), #13\n",
    "    (\"VM:pgfault\", \"Paging and Virtual Memory: Page Faults\", [0,100], \"virt_mem_page_faults\") #14\n",
    "]\n",
    "\n",
    "free_mem_metrics = [\n",
    "    (\"total\", \"Memory Total\", [0,32000], \"mem_total_MB\"), # 0\n",
    "    (\"used\", \"Memory Used\", [0,32000], \"mem_used_MB\"), # 1\n",
    "    (\"free\", \"Memory Free\", [0,32000], \"mem_free_MB\"), #2\n",
    "    (\"shared\", \"Memory Shared\", [0,32000], \"mem_shared_MB\"), #3\n",
    "    (\"buff/cache\", \"Memory Buffer/Cache\", [0,32000], \"buff_cache_MB\"), # 4\n",
    "    (\"available\", \"Memory Available\", [0,32000], \"mem_available_MB\") # 5\n",
    "]\n",
    "\n",
    "possible_experiments = [\n",
    "    \"using_global_hp/synchronous\",\n",
    "    \"using_global_hp/multiprocessing\"\n",
    "]\n",
    "\n",
    "experiments = [\n",
    "    \"using_global_hp/synchronous\",\n",
    "    \"using_global_hp/multiprocessing\"\n",
    "]\n",
    "\n",
    "machine_names = [\n",
    "    \"ant\",\n",
    "    \"antlion\",\n",
    "    \"aphid\",\n",
    "    \"assassin-bug\",\n",
    "    \"bee\",\n",
    "    \"centipede\",\n",
    "    \"cockroach\",\n",
    "    \"cricket\",\n",
    "    \"damselfly\",\n",
    "    \"deer-fly\",\n",
    "    \"dragonfly\"\n",
    "]\n",
    "\n",
    "CB_color_cycle = {\n",
    "    \"blue\":'#377eb8',\n",
    "    \"orange\":'#ff7f00',\n",
    "    \"green\":'#4daf4a',\n",
    "    \"pink\":'#f781bf',\n",
    "    \"brown\":'#a65628',\n",
    "    \"purple\":'#984ea3',\n",
    "    \"gray\":'#999999',\n",
    "    \"red\":'#e41a1c',\n",
    "    \"yellow\":'#dede00'\n",
    "}\n",
    "\n",
    "chosen_metric = nmon_metric_options[1]\n",
    "metric_header = chosen_metric[0]\n",
    "metric_name = chosen_metric[1]\n",
    "y_axis_limits = chosen_metric[2]\n",
    "metric_file_suffix = chosen_metric[3]\n",
    "\n",
    "experiment_dfs = []\n",
    "\n",
    "for experiment in experiments:\n",
    "    dataframes = []\n",
    "    for i, hostname in enumerate(machine_names):\n",
    "        filename = f\"{i}-{hostname}.nmon.csv\"\n",
    "        #filename = f\"{hostname}_free.csv\"  # Switch these two if you want to look at free metrics\n",
    "        filepath = f\"{experiment}/{filename}\"\n",
    "        dataframe = pd.read_csv(filepath, header=0)\n",
    "        dataframes.append(dataframe.pop(metric_header))\n",
    "    experiment_dfs.append((experiment, dataframes))"
   ],
   "metadata": {
    "collapsed": false,
    "pycharm": {
     "name": "#%%\n"
    }
   }
  },
  {
   "cell_type": "markdown",
   "source": [
    "# Cluster metrics"
   ],
   "metadata": {
    "collapsed": false,
    "pycharm": {
     "name": "#%% md\n"
    }
   }
  },
  {
   "cell_type": "code",
   "execution_count": null,
   "outputs": [],
   "source": [
    "number_rows = 3\n",
    "number_cols = 1\n",
    "\n",
    "fig, ax = plt.subplots(nrows=number_rows, ncols=number_cols, figsize=(10, 10), dpi=200)\n",
    "#fig.tight_layout(h_pad=1.7)\n",
    "#fig.suptitle(metric_name, fontsize=10)\n",
    "\n",
    "# index = 0\n",
    "# for i in range(number_rows):\n",
    "#     for j in range(number_cols):\n",
    "#         if index == 11:\n",
    "#             break\n",
    "#         for experiment, dataframe in experiment_dfs:\n",
    "#             ax[i,j].set_ylim(y_axis_limits)\n",
    "#             ax[i,j].plot(dataframe[index], label=experiment)\n",
    "#             ax[i,j].set_title(machine_names[index])\n",
    "#             ax[i,j].legend()\n",
    "#         index += 1\n",
    "\n",
    "for experiment, dataframe in experiment_dfs:\n",
    "    ax[0].plot(dataframe[0], label=experiment)\n",
    "    ax[0].set_title(\"Master Node\")\n",
    "    ax[0].set_ylim(y_axis_limits)\n",
    "    ax[0].set_xlim([0,600])\n",
    "    ax[0].legend()\n",
    "\n",
    "\n",
    "experiment, dataframe = experiment_dfs[0]\n",
    "for index in range(1,11):\n",
    "    ax[1].plot(dataframe[index])\n",
    "    ax[1].set_title(\"Worker Nodes, Synchronous\")\n",
    "    ax[1].set_xlim([0,600])\n",
    "    ax[1].set_ylabel(\"CPU Usage, Percent\")\n",
    "    ax[1].set_ylim(y_axis_limits)\n",
    "\n",
    "experiment, dataframe = experiment_dfs[1]\n",
    "for index in range(1,11):\n",
    "    ax[2].plot(dataframe[index])\n",
    "    ax[2].set_title(\"Worker Nodes, Multiprocessing\")\n",
    "    ax[2].set_xlim([0,600])\n",
    "    ax[2].set_ylim(y_axis_limits)\n",
    "    ax[2].set_xlabel(\"Seconds into Job\")\n",
    "\n",
    "# for index in range(11):\n",
    "#     for experiment, dataframe in experiment_dfs:\n",
    "#         ax.set_ylim(y_axis_limits)\n",
    "#         ax.plot(dataframe[index], label=experiment)\n",
    "#         ax.set_title(machine_names[index])\n",
    "#         ax.legend()\n",
    "#     index += 1\n",
    "\n",
    "#plt.subplots_adjust(top=0.90)\n",
    "#plt.show()\n",
    "plt.savefig(f\"cpu_by_jobmode.png\", dpi=300)"
   ],
   "metadata": {
    "collapsed": false,
    "pycharm": {
     "name": "#%%\n"
    }
   }
  },
  {
   "cell_type": "markdown",
   "source": [
    "# Hyperparameter Search"
   ],
   "metadata": {
    "collapsed": false,
    "pycharm": {
     "name": "#%% md\n"
    }
   }
  },
  {
   "cell_type": "code",
   "execution_count": null,
   "outputs": [],
   "source": [
    "# Find model with minimum val_loss\n",
    "min_val_loss = 1.0\n",
    "min_filename = \"\"\n",
    "for filename in os.listdir(\"hp_search/\"):\n",
    "    if filename.endswith(\".csv\"):\n",
    "        hp_df = pd.read_csv(f\"hp_search/{filename}\", header=0)\n",
    "        min_of_column = hp_df[\"val_loss\"].min()\n",
    "        if min_of_column < min_val_loss:\n",
    "            min_val_loss = min_of_column\n",
    "            min_filename = filename\n",
    "\n",
    "print(f\"{min_filename}: {min_val_loss}\")"
   ],
   "metadata": {
    "collapsed": false,
    "pycharm": {
     "name": "#%%\n"
    }
   }
  },
  {
   "cell_type": "markdown",
   "source": [
    "# Global Validation vs Local Validation"
   ],
   "metadata": {
    "collapsed": false,
    "pycharm": {
     "name": "#%% md\n"
    }
   }
  },
  {
   "cell_type": "code",
   "execution_count": null,
   "outputs": [],
   "source": [
    "with open(\"using_global_hp/global_validation.json\", \"r\") as f:\n",
    "    global_model_response = json.load(f)\n",
    "\n",
    "with open(\"using_global_hp/synchronous/response.json\", \"r\") as f:\n",
    "    local_model_response = json.load(f)\n",
    "\n",
    "results = {}  # Mapping of gis_join -> (global_loss, local_loss)\n",
    "for metric in global_model_response[\"metrics\"]:\n",
    "    gis_join = metric[\"gis_join\"]\n",
    "    results[gis_join] = [metric[\"loss\"], 0.0]\n",
    "\n",
    "for worker_response in local_model_response[\"worker_responses\"]:\n",
    "    for metric in worker_response[\"validation_metrics\"]:\n",
    "        gis_join = metric[\"gis_join_metadata\"][\"gis_join\"]\n",
    "        results[gis_join][1] = metric[\"true_loss\"]\n",
    "\n",
    "as_list = list(results.values())\n",
    "as_list.sort(key=lambda y: y[0], reverse=True)\n",
    "global_loss_vals = [x[0] for x in as_list]\n",
    "local_loss_vals = [x[1] for x in as_list]\n",
    "\n",
    "\n",
    "fig, ax = plt.subplots(nrows=1, ncols=1, figsize=(10, 6), dpi=300)\n",
    "\n",
    "ax.set_title(\"Global vs Local Model Evaluation Loss\")\n",
    "ax.set_xlabel(\"County Index\")\n",
    "ax.set_ylabel(\"Mean Squared Error\")\n",
    "ax.plot(global_loss_vals, '.', ms=4, label=\"Global validation loss\")\n",
    "ax.plot(local_loss_vals, 'x', ms=4, label=\"Local validation loss\")\n",
    "ax.legend()\n",
    "\n",
    "plt.savefig(f\"loss_by_model_type.png\", dpi=300)\n",
    "#plt.show()"
   ],
   "metadata": {
    "collapsed": false,
    "pycharm": {
     "name": "#%%\n"
    }
   }
  },
  {
   "cell_type": "code",
   "execution_count": null,
   "outputs": [],
   "source": [],
   "metadata": {
    "collapsed": false,
    "pycharm": {
     "name": "#%%\n"
    }
   }
  }
 ],
 "metadata": {
  "kernelspec": {
   "display_name": "Python 3",
   "language": "python",
   "name": "python3"
  },
  "language_info": {
   "codemirror_mode": {
    "name": "ipython",
    "version": 2
   },
   "file_extension": ".py",
   "mimetype": "text/x-python",
   "name": "python",
   "nbconvert_exporter": "python",
   "pygments_lexer": "ipython2",
   "version": "2.7.6"
  }
 },
 "nbformat": 4,
 "nbformat_minor": 0
}